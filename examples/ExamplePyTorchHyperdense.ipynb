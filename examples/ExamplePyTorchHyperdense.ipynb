{
 "cells": [
  {
   "cell_type": "markdown",
   "id": "1e1f5726",
   "metadata": {},
   "source": [
    "# Example application of Hyperdense layer for PyTorch"
   ]
  },
  {
   "cell_type": "markdown",
   "id": "75ecf3dc",
   "metadata": {},
   "source": [
    "## Setup"
   ]
  },
  {
   "cell_type": "code",
   "execution_count": 3,
   "id": "86610bb7",
   "metadata": {},
   "outputs": [
    {
     "name": "stderr",
     "output_type": "stream",
     "text": [
      "2024-06-30 15:22:39.458675: I tensorflow/tsl/cuda/cudart_stub.cc:28] Could not find cuda drivers on your machine, GPU will not be used.\n",
      "2024-06-30 15:22:39.505583: I tensorflow/tsl/cuda/cudart_stub.cc:28] Could not find cuda drivers on your machine, GPU will not be used.\n",
      "2024-06-30 15:22:39.506378: I tensorflow/core/platform/cpu_feature_guard.cc:182] This TensorFlow binary is optimized to use available CPU instructions in performance-critical operations.\n",
      "To enable the following instructions: AVX2 FMA, in other operations, rebuild TensorFlow with the appropriate compiler flags.\n",
      "2024-06-30 15:22:40.128305: W tensorflow/compiler/tf2tensorrt/utils/py_utils.cc:38] TF-TRT Warning: Could not find TensorRT\n"
     ]
    }
   ],
   "source": [
    "import numpy as np\n",
    "\n",
    "import tensorflow as tf\n",
    "from tensorflow.keras import layers, activations, initializers\n",
    "\n",
    "import keras\n",
    "\n",
    "import torch\n",
    "import torch.nn as nn\n",
    "\n",
    "from torch.autograd import Variable"
   ]
  },
  {
   "cell_type": "code",
   "execution_count": 4,
   "id": "68b26d67",
   "metadata": {},
   "outputs": [],
   "source": [
    "from HypercomplexKeras import HyperdenseTorch\n",
    "from HypercomplexKeras import Algebra"
   ]
  },
  {
   "cell_type": "markdown",
   "id": "ef40cf74",
   "metadata": {},
   "source": [
    "## Example application"
   ]
  },
  {
   "cell_type": "code",
   "execution_count": 5,
   "id": "fac6d4e3",
   "metadata": {},
   "outputs": [
    {
     "name": "stdout",
     "output_type": "stream",
     "text": [
      "predicted =  tensor([0.3289, 0.6711, 0.6799, 0.3287], grad_fn=<SelectBackward0>)\n",
      "predicted (rounded) =  tensor([0., 1., 1., 0.], grad_fn=<RoundBackward0>)\n",
      "expected =  tensor([0., 1., 1., 0.])\n"
     ]
    },
    {
     "data": {
      "image/png": "[encoded data removed]",
      "text/plain": [
       "<Figure size 432x288 with 1 Axes>"
      ]
     },
     "metadata": {
      "needs_background": "light"
     },
     "output_type": "display_data"
    }
   ],
   "source": [
    "from collections import OrderedDict\n",
    "\n",
    "import matplotlib.pylab as plt\n",
    "\n",
    "\n",
    "#data:\n",
    "x_train = torch.Tensor(np.array([[1, 0, 0, 0], [0, 1, 0, 0], [0, 0, 1, 0],  [0, 0, 0, 1]], dtype = np.dtype(float))).to(torch.float)\n",
    "y_train = torch.Tensor(np.array([[0], [1], [1],  [0]])[:,0]).to(torch.float)\n",
    "\n",
    "\n",
    "#model\n",
    "model = nn.Sequential(OrderedDict([\n",
    "    (\"HyperDense\", HyperdenseTorch.HyperDenseTorch(10, (4,), activation = torch.tanh )),\n",
    "    (\"Dense\", nn.Linear(40,1)),\n",
    "    ('Sigmoid', nn.Sigmoid())\n",
    "        ]))\n",
    "\n",
    "#init\n",
    "loss_fn = nn.BCELoss()\n",
    "optimizer = torch.optim.SGD(model.parameters(), lr=0.015)\n",
    "torch.manual_seed(1)\n",
    "\n",
    "num_epoch = 200\n",
    "\n",
    "loss_hist_train = [0]*num_epoch\n",
    "accuracy_hist_train = [0]*num_epoch\n",
    "loss_hist_train = [0]*num_epoch\n",
    "\n",
    "\n",
    "\n",
    "#training loop\n",
    "for epoch in range(num_epoch):\n",
    "    pred = model(x_train)[:,0]\n",
    "    #pred = model(x_train)\n",
    "    #print(\"epoch = \", epoch)\n",
    "    #print(\"pred = \", pred)\n",
    "    #print(\"y_train = \", y_train)\n",
    "    loss = loss_fn(pred, y_train)\n",
    "    loss.backward()\n",
    "    optimizer.step()\n",
    "    optimizer.zero_grad()\n",
    "    loss_hist_train[epoch] += loss.item()\n",
    "    is_correct  = ((pred >= 0.5).float() == y_train).float()\n",
    "    accuracy_hist_train[epoch] += is_correct.mean()\n",
    "\n",
    "    \n",
    "#summary\n",
    "pred = model(x_train)[:,0]\n",
    "print(\"predicted = \", pred)\n",
    "print(\"predicted (rounded) = \", pred.round())\n",
    "print(\"expected = \", y_train)\n",
    "assert (pred.round() == y_train).all()\n",
    "\n",
    "plt.plot(loss_hist_train, label = \"loss\")\n",
    "plt.plot(accuracy_hist_train, label = \"acuracy\")\n",
    "plt.legend()\n",
    "plt.show()\n",
    "\n"
   ]
  }
 ],
 "metadata": {
  "kernelspec": {
   "display_name": "Python 3 (ipykernel)",
   "language": "python",
   "name": "python3"
  },
  "language_info": {
   "codemirror_mode": {
    "name": "ipython",
    "version": 3
   },
   "file_extension": ".py",
   "mimetype": "text/x-python",
   "name": "python",
   "nbconvert_exporter": "python",
   "pygments_lexer": "ipython3",
   "version": "3.10.12"
  }
 },
 "nbformat": 4,
 "nbformat_minor": 5
}
