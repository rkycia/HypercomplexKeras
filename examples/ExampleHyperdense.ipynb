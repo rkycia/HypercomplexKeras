{
 "cells": [
  {
   "cell_type": "markdown",
   "id": "f3f14d0a",
   "metadata": {},
   "source": [
    "# Hyperdense example"
   ]
  },
  {
   "cell_type": "markdown",
   "id": "63cac2ae",
   "metadata": {
    "id": "8333f6b2"
   },
   "source": [
    "## Setup"
   ]
  },
  {
   "cell_type": "code",
   "execution_count": 1,
   "id": "b51067da",
   "metadata": {},
   "outputs": [],
   "source": [
    "#!pip uninstall tensorflow  -y\n",
    "#!pip install tensorflow==2.12.0"
   ]
  },
  {
   "cell_type": "code",
   "execution_count": 2,
   "id": "23dfaab3",
   "metadata": {
    "id": "ce79c08e"
   },
   "outputs": [],
   "source": [
    "import time\n",
    "import pandas as pd\n",
    "import matplotlib.pyplot as plt\n",
    "import numpy as np\n",
    "\n",
    "import sys"
   ]
  },
  {
   "cell_type": "code",
   "execution_count": 3,
   "id": "0eae0c0c",
   "metadata": {
    "id": "19353d50"
   },
   "outputs": [
    {
     "name": "stderr",
     "output_type": "stream",
     "text": [
      "2024-06-05 18:25:00.941704: I tensorflow/tsl/cuda/cudart_stub.cc:28] Could not find cuda drivers on your machine, GPU will not be used.\n",
      "2024-06-05 18:25:00.970414: I tensorflow/tsl/cuda/cudart_stub.cc:28] Could not find cuda drivers on your machine, GPU will not be used.\n",
      "2024-06-05 18:25:00.970714: I tensorflow/core/platform/cpu_feature_guard.cc:182] This TensorFlow binary is optimized to use available CPU instructions in performance-critical operations.\n",
      "To enable the following instructions: AVX2 FMA, in other operations, rebuild TensorFlow with the appropriate compiler flags.\n",
      "2024-06-05 18:25:01.501279: W tensorflow/compiler/tf2tensorrt/utils/py_utils.cc:38] TF-TRT Warning: Could not find TensorRT\n"
     ]
    }
   ],
   "source": [
    "import tensorflow as tf\n",
    "import tensorflow.keras as kr\n",
    "from tensorflow.keras import datasets, models\n",
    "from tensorflow.keras import layers, activations, initializers\n",
    "from tensorflow.python.framework import tensor_shape\n",
    "from tensorflow.python.keras.engine.input_spec import InputSpec\n",
    "\n",
    "import warnings\n",
    "warnings.filterwarnings(\"ignore\")"
   ]
  },
  {
   "cell_type": "code",
   "execution_count": 4,
   "id": "a7c3a379",
   "metadata": {},
   "outputs": [],
   "source": [
    "import algebra\n",
    "import Hyperdense"
   ]
  },
  {
   "cell_type": "markdown",
   "id": "80224842",
   "metadata": {},
   "source": [
    "## Example"
   ]
  },
  {
   "cell_type": "code",
   "execution_count": 5,
   "id": "730b2804",
   "metadata": {},
   "outputs": [
    {
     "name": "stdout",
     "output_type": "stream",
     "text": [
      "Model: \"sequential\"\n",
      "_________________________________________________________________\n",
      " Layer (type)                Output Shape              Param #   \n",
      "=================================================================\n",
      " hyper_dense (HyperDense)    (None, 16)                32        \n",
      "                                                                 \n",
      " activation (Activation)     (None, 16)                0         \n",
      "                                                                 \n",
      " dense (Dense)               (None, 1)                 17        \n",
      "                                                                 \n",
      " activation_1 (Activation)   (None, 1)                 0         \n",
      "                                                                 \n",
      "=================================================================\n",
      "Total params: 49\n",
      "Trainable params: 49\n",
      "Non-trainable params: 0\n",
      "_________________________________________________________________\n",
      "1/1 [==============================] - 0s 35ms/step\n",
      "predicted =  [[0.05825308]\n",
      " [0.92031854]\n",
      " [0.9183687 ]\n",
      " [0.09947557]]\n",
      "predicted quantized =  [[0]\n",
      " [1]\n",
      " [1]\n",
      " [0]]\n"
     ]
    }
   ],
   "source": [
    "import algebra\n",
    "from Hyperdense import HyperDense\n",
    "\n",
    "import numpy as np\n",
    "from keras.models import Sequential\n",
    "from keras.layers import Dense, Activation\n",
    "\n",
    "#data:\n",
    "x_train = np.array([[1,0, 0, 0], [0, 1, 0, 0], [0, 0, 1, 0],  [0, 0, 0, 1]], dtype = np.dtype(float))\n",
    "y_train = np.array([[0], [1], [1],  [0]])\n",
    "\n",
    "#create model:\n",
    "model = Sequential()\n",
    "num_neurons = 4\n",
    "model.add(HyperDense(num_neurons))\n",
    "#model.add(Dense(num_neurons))\n",
    "model.add(Activation('tanh'))\n",
    "model.add(Dense(1))\n",
    "model.add(Activation('sigmoid'))\n",
    "model.predict(x_train, verbose=0)\n",
    "\n",
    "model.summary()\n",
    "\n",
    "\n",
    "sgd = tf.keras.optimizers.legacy.Adam()\n",
    "model.compile(loss='binary_crossentropy', optimizer=sgd, metrics=['accuracy'])\n",
    "\n",
    "\n",
    "model.fit(x_train, y_train, epochs=500, verbose=0)\n",
    "\n",
    "\n",
    "y_predict = model.predict(x_train)\n",
    "y_predict_quantized = np.round(y_predict).astype(int)\n",
    "print(\"predicted = \", y_predict)\n",
    "print(\"predicted quantized = \", y_predict_quantized)\n",
    "\n",
    "\n",
    "assert (y_train == y_predict_quantized).all()\n"
   ]
  },
  {
   "cell_type": "code",
   "execution_count": null,
   "id": "489552ea",
   "metadata": {},
   "outputs": [],
   "source": [
    "\n",
    "\n"
   ]
  }
 ],
 "metadata": {
  "accelerator": "GPU",
  "colab": {
   "machine_shape": "hm",
   "name": "",
   "version": ""
  },
  "kernelspec": {
   "display_name": "Python 3 (ipykernel)",
   "language": "python",
   "name": "python3"
  },
  "language_info": {
   "codemirror_mode": {
    "name": "ipython",
    "version": 3
   },
   "file_extension": ".py",
   "mimetype": "text/x-python",
   "name": "python",
   "nbconvert_exporter": "python",
   "pygments_lexer": "ipython3",
   "version": "3.10.12"
  }
 },
 "nbformat": 4,
 "nbformat_minor": 5
}
